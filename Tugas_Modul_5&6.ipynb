{
 "cells": [
  {
   "cell_type": "markdown",
   "metadata": {},
   "source": [
    "***\n",
    "<h1 align=\"center\">Tugas 5</h1>\n",
    " \n",
    "***"
   ]
  },
  {
   "cell_type": "markdown",
   "metadata": {},
   "source": [
    "Nama&nbsp;&nbsp;: ... <br>\n",
    "NIM&emsp;&nbsp;: ...<br>\n",
    "Kelas&nbsp;&nbsp;&nbsp;: ..."
   ]
  },
  {
   "cell_type": "markdown",
   "metadata": {},
   "source": [
    "## Mengerjakan Tugas\n",
    "Pada *file* **Jupyter Notebook** ini, kalian akan mengerjakan tugas terkait Modul 5, yaitu Fungsi. Pengerjaan tugas dapat dilakukan dengan memperhatikan soal dan petunjuk yang sudah diberikan. Dimohon untuk membaca dan memperhatikan setiap kriteria soal supaya mampu mendapatkan hasil yang maksimal. Harap kerjakan tugas secara mandiri dan bersungguh-sungguh.\n",
    "\n",
    "Selamat mengerjakan!"
   ]
  },
  {
   "cell_type": "markdown",
   "metadata": {},
   "source": [
    "## SOAL 1\n"
   ]
  },
  {
   "cell_type": "markdown",
   "metadata": {},
   "source": [
    "Buatkan program sederhana berbahasa Python dengan kriteria dan mekanisme kerja seperti di bawah ini:\n",
    "- Program yang dibuat merupakan sebuah **Kalkulator Sederhana**\n",
    "- Pengguna dapat melihat daftar opsi perhitungan yang ingin digunakan, \n",
    "<br>contoh : `1. Penjumlahan, 2.Pengurangan, 3.Perkalian, 4. Pembagian, 5. Rata-rata, 6.Pangkat, dll.. `\n",
    "- Opsi perhitungan umum yang disediakan minimal berjumlah 6.\n",
    "- Opsi perhitungan **khusus** berjumlah 2 dengan ketentuan:\n",
    "<br>NIM Ganjil: `1. Volume Lingkaran 2. Sin`\n",
    "<br>NIM Genap:  `1. Volume Tabung 2. Logaritma(log) `\n",
    "- Pengguna dapat memilih perhitungan mana yang ingin digunakan.\n",
    "- Apabila pengguna memilih opsi diluar yang disediakan, program wajib memunculkan *feedback* bahwa opsi yang dipilih tidak valid.\n",
    "- Pastikan perhitungan tidak memiliki batasan jumlah input angka. \n",
    "- Silahkan berkreasi dengan fungsi `def`  \n",
    "*Notes*: **DILARANG MENGGUNAKAN LIBRARY TAMBAHAN!**\n"
   ]
  },
  {
   "cell_type": "markdown",
   "metadata": {},
   "source": [
    "Jawaban:"
   ]
  },
  {
   "cell_type": "code",
   "execution_count": null,
   "metadata": {},
   "outputs": [],
   "source": [
    "# Buat kode program di sini\n",
    "\n",
    "..."
   ]
  },
  {
   "cell_type": "markdown",
   "metadata": {},
   "source": [
    "## SOAL 2 \n"
   ]
  },
  {
   "cell_type": "markdown",
   "metadata": {},
   "source": [
    "Seperti case pada Exercise 3, buatlah program dengan struktur fungsi `def...`, dan program terus berjalan **(looping)** sampai pengguna ingin mematikan program secara manual.\n",
    "\n",
    "*hint*: berikan opsi pilihan fitur saat program dijalankan.\n",
    "\n",
    "Sebuah supermarket memberikan promo kepada pelanggannya berdasarkan syarat tertentu. Pelanggan akan mendapatkan diskon dengan ketentuan sebagai berikut:\n",
    "- Diskon **20%** untuk pelanggan *member* dengan pembelian lebih dari Rp500.000\n",
    "- Diskon **10%** untuk pelanggan biasa dengan pembelian lebih dari Rp500.000\n",
    "- Diskon **5%** untuk pelanggan *member* dengan pembelian kurang dari Rp500.000\n",
    "\n",
    "Jika pelanggan tidak memenuhi ketentuan di atas, pelanggan tersebut tidak mendapatkan diskon.\n",
    "\n",
    "Berdasarkan kondisi di atas, buatkan program sederhana berbahasa Python dengan mekanisme kerja seperti di bawah ini:\n",
    "- Pengguna (dalam konteks ini kasir) akan menginputkan nama pembeli\n",
    "- Pengguna juga menginputkan status member pembeli, apakah sudah menjadi member atau belum\n",
    "- Pengguna menginputkan total pembelian pelanggan tersebut\n",
    "- Program menghitung total pembelian dengan diskon sesuai ketentuan\n",
    "- Program mencetak nota pembelian sederhana yang menampilkan nama pembeli, status member, subtotal (total pembelian sebelum diberi harga diskon), besar diskon, dan total akhir"
   ]
  },
  {
   "cell_type": "markdown",
   "metadata": {},
   "source": [
    "Jawaban:"
   ]
  },
  {
   "cell_type": "code",
   "execution_count": null,
   "metadata": {},
   "outputs": [],
   "source": [
    "# Buat kode program di sini\n",
    "\n",
    "..."
   ]
  },
  {
   "cell_type": "markdown",
   "metadata": {},
   "source": [
    "***\n",
    "<h1 align=\"center\">Tugas 6</h1>\n",
    " \n",
    "***"
   ]
  },
  {
   "cell_type": "markdown",
   "metadata": {},
   "source": [
    "Nama&nbsp;&nbsp;: ... <br>\n",
    "NIM&emsp;&nbsp;: ...<br>\n",
    "Kelas&nbsp;&nbsp;&nbsp;: ..."
   ]
  },
  {
   "cell_type": "markdown",
   "metadata": {},
   "source": [
    "# SOAL 1"
   ]
  },
  {
   "cell_type": "markdown",
   "metadata": {},
   "source": [
    "Buatkan program perkalian antara 2 matriks berukuran 3x3!\n",
    "Kriteria dari program yang dibuat yaitu\n",
    "- Program dapat menghitung perkalian dari matriks-matriks yang telah didefinisikan diatas kode program yang dibuat\n",
    "- Program dibuat menggunakan fungsi-fungsi dasar python tanpa library tambahan\n",
    "- Program akan mengeluarkan output hasil penjumlahan dengan format matriks tidak sebaris"
   ]
  },
  {
   "cell_type": "markdown",
   "metadata": {},
   "source": [
    "Contoh _output_ yang diharapkan"
   ]
  },
  {
   "cell_type": "markdown",
   "metadata": {},
   "source": [
    "Hasil dari penjumlahan kedua matriks adalah\n",
    "\n",
    "[x, x, x]\n",
    "[x, x, x]\n",
    "[x, x, x]"
   ]
  },
  {
   "cell_type": "markdown",
   "metadata": {},
   "source": [
    "Jawaban"
   ]
  },
  {
   "cell_type": "code",
   "execution_count": null,
   "metadata": {},
   "outputs": [],
   "source": [
    "# Tulis kode program disini"
   ]
  },
  {
   "cell_type": "markdown",
   "metadata": {},
   "source": [
    "# SOAL 2"
   ]
  },
  {
   "cell_type": "markdown",
   "metadata": {},
   "source": [
    "Buatkan sebuah fungsi yang berisi program untuk menghitung determinan matriks 3x3! Kriteria dari program yang dibuat yaitu:\n",
    "- Program dibuat dengan fungsi/def (menggunakan parameter sebagai input dan return sebagai output fungsi)\n",
    "- Program dibuat menggunakan fungsi-fungsi dasar python tanpa library tambahan\n",
    "- Program akan mengeluarkan output matriks awal dan hasil determinan dari matriks tersebut"
   ]
  },
  {
   "cell_type": "markdown",
   "metadata": {},
   "source": [
    "Contoh _output_ yang diharapkan"
   ]
  },
  {
   "cell_type": "code",
   "execution_count": null,
   "metadata": {
    "vscode": {
     "languageId": "plaintext"
    }
   },
   "outputs": [],
   "source": [
    "[x, x, x]\n",
    "[x, x, x]\n",
    "[x, x, x]\n",
    "\n",
    "Determinan dari matriks diatas adalah x"
   ]
  },
  {
   "cell_type": "markdown",
   "metadata": {},
   "source": [
    "Jawaban"
   ]
  },
  {
   "cell_type": "code",
   "execution_count": null,
   "metadata": {},
   "outputs": [],
   "source": [
    "# Tulis kode program disini"
   ]
  },
  {
   "cell_type": "markdown",
   "metadata": {},
   "source": [
    "# SOAL 3"
   ]
  },
  {
   "cell_type": "markdown",
   "metadata": {},
   "source": [
    "Buatkan sebuah fungsi yang berisi program untuk menghitung inverse matriks 3x3! Kriteria dari program yang dibuat yaitu:\n",
    "- Program dibuat dengan fungsi/def (menggunakan parameter sebagai input dan return sebagai output fungsi)\n",
    "- Program dibuat menggunakan fungsi-fungsi dasar python tanpa library tambahan\n",
    "- Program diintegrasikan dengan fungsi yang dibuat pada soal ke-2\n",
    "- Program akan mengeluarkan output hasil penjumlahan dengan format matriks yang tidak sebaris"
   ]
  },
  {
   "cell_type": "markdown",
   "metadata": {},
   "source": [
    "Contoh _output_ yang diharapkan"
   ]
  },
  {
   "cell_type": "markdown",
   "metadata": {},
   "source": [
    "Hasil dari operasi inverse yaitu\n",
    "\n",
    "[x, x, x]\n",
    "[x, x, x]\n",
    "[x, x, x]"
   ]
  }
 ],
 "metadata": {
  "kernelspec": {
   "display_name": "Python 3",
   "language": "python",
   "name": "python3"
  },
  "language_info": {
   "codemirror_mode": {
    "name": "ipython",
    "version": 3
   },
   "file_extension": ".py",
   "mimetype": "text/x-python",
   "name": "python",
   "nbconvert_exporter": "python",
   "pygments_lexer": "ipython3",
   "version": "3.10.5"
  }
 },
 "nbformat": 4,
 "nbformat_minor": 2
}
